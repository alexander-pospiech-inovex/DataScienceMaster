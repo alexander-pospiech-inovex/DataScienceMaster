{
 "cells": [
  {
   "cell_type": "markdown",
   "metadata": {
    "toc": "true"
   },
   "source": [
    "# Table of Contents\n",
    " <p><div class=\"lev1 toc-item\"><a href=\"#MultiVariate-Linear-Regression\" data-toc-modified-id=\"MultiVariate-Linear-Regression-1\"><span class=\"toc-item-num\">1&nbsp;&nbsp;</span>MultiVariate Linear Regression</a></div><div class=\"lev1 toc-item\"><a href=\"#Load-the-Data\" data-toc-modified-id=\"Load-the-Data-2\"><span class=\"toc-item-num\">2&nbsp;&nbsp;</span>Load the Data</a></div><div class=\"lev1 toc-item\"><a href=\"#Data-Preparation-(train,-test)\" data-toc-modified-id=\"Data-Preparation-(train,-test)-3\"><span class=\"toc-item-num\">3&nbsp;&nbsp;</span>Data Preparation (train, test)</a></div><div class=\"lev1 toc-item\"><a href=\"#Manual-Implementation\" data-toc-modified-id=\"Manual-Implementation-4\"><span class=\"toc-item-num\">4&nbsp;&nbsp;</span>Manual Implementation</a></div><div class=\"lev2 toc-item\"><a href=\"#Algorithm\" data-toc-modified-id=\"Algorithm-41\"><span class=\"toc-item-num\">4.1&nbsp;&nbsp;</span>Algorithm</a></div><div class=\"lev2 toc-item\"><a href=\"#Analysis-of-Convergence\" data-toc-modified-id=\"Analysis-of-Convergence-42\"><span class=\"toc-item-num\">4.2&nbsp;&nbsp;</span>Analysis of Convergence</a></div><div class=\"lev1 toc-item\"><a href=\"#Library-Implementations\" data-toc-modified-id=\"Library-Implementations-5\"><span class=\"toc-item-num\">5&nbsp;&nbsp;</span>Library Implementations</a></div><div class=\"lev2 toc-item\"><a href=\"#Statsmodel\" data-toc-modified-id=\"Statsmodel-51\"><span class=\"toc-item-num\">5.1&nbsp;&nbsp;</span>Statsmodel</a></div><div class=\"lev2 toc-item\"><a href=\"#SKLearn\" data-toc-modified-id=\"SKLearn-52\"><span class=\"toc-item-num\">5.2&nbsp;&nbsp;</span>SKLearn</a></div><div class=\"lev1 toc-item\"><a href=\"#SciPy\" data-toc-modified-id=\"SciPy-6\"><span class=\"toc-item-num\">6&nbsp;&nbsp;</span>SciPy</a></div>"
   ]
  },
  {
   "cell_type": "markdown",
   "metadata": {},
   "source": [
    "# MultiVariate Linear Regression\n",
    "\n",
    "See [UniVariate Linear Regression](01 - LinearRegression - UniVariate.ipynb) for introduction, data analysis and simpler version.\n",
    "\n",
    "\\begin{equation*}\n",
    "Y = a_0 + a_{1} X_{1} + a_{2} X_{2} + ...\n",
    "\\end{equation*}\n",
    "\n"
   ]
  },
  {
   "cell_type": "markdown",
   "metadata": {},
   "source": [
    "# Load the Data"
   ]
  },
  {
   "cell_type": "code",
   "execution_count": 14,
   "metadata": {
    "collapsed": false
   },
   "outputs": [],
   "source": [
    "%matplotlib inline\n",
    "import pandas as pd\n",
    "import numpy as np\n",
    "from sklearn import metrics\n",
    "import matplotlib.pyplot as plt\n",
    "df = pd.read_csv('./data/housing.data')"
   ]
  },
  {
   "cell_type": "markdown",
   "metadata": {},
   "source": [
    "# Data Preparation (train, test)"
   ]
  },
  {
   "cell_type": "code",
   "execution_count": 15,
   "metadata": {
    "collapsed": false
   },
   "outputs": [],
   "source": [
    "from numpy import loadtxt, zeros, ones, array, linspace, logspace, vstack\n",
    "\n",
    "# Xs\n",
    "X_ar = df[\"avg_rooms\"]\n",
    "X_pls = df[\"percent_lower_status\"]\n",
    "X = np.column_stack([X_ar,X_pls])\n",
    "# Y\n",
    "y = df[\"median_value\"]\n",
    "\n",
    "#number of training samples\n",
    "m = y.size\n",
    "\n",
    "#Add a column of ones to X (interception data)\n",
    "it = ones(shape=(m, 3))\n",
    "it[:, 1:] = X\n",
    "X = it\n",
    "\n",
    "#Create a mask for selecting randomly 20% of data\n",
    "msk = np.random.rand(len(y)) < 0.2\n",
    "\n",
    "# Split x-values for into train and test data\n",
    "X_test = X[msk]\n",
    "X = X[~msk]\n",
    "\n",
    "# Split y-values for media_value into train and test data\n",
    "y_test = y[msk].copy()\n",
    "y = y[~msk].copy()"
   ]
  },
  {
   "cell_type": "markdown",
   "metadata": {},
   "source": [
    "# Manual Implementation"
   ]
  },
  {
   "cell_type": "markdown",
   "metadata": {},
   "source": [
    "## Algorithm"
   ]
  },
  {
   "cell_type": "code",
   "execution_count": 16,
   "metadata": {
    "collapsed": true
   },
   "outputs": [],
   "source": [
    "def compute_cost(X, y, theta):\n",
    "    m = y.size\n",
    "    predictions = X.dot(theta).flatten()\n",
    "    sqErrors = (predictions - y) ** 2\n",
    "    J = (1.0 / (2 * m)) * sqErrors.sum()\n",
    "    return J\n",
    "\n",
    "def gradient_descent(X, y, theta, alpha, num_iters):\n",
    "    m = y.size\n",
    "    J_history = zeros(shape=(num_iters, 1))\n",
    "    #print(\"theta: \" + str(theta))\n",
    "    \n",
    "    last_cost = compute_cost(X, y, theta)\n",
    "    \n",
    "    for i in range(num_iters):\n",
    "        predictions = X.dot(theta).flatten()\n",
    "        for j in range(theta.size):\n",
    "            errors = (predictions - y) * X[:, j]        \n",
    "            theta[j][0] = theta[j][0] - alpha * (1.0 / m) * errors.sum()\n",
    "        cost = compute_cost(X, y, theta)\n",
    "        if cost > last_cost:\n",
    "            print(\"\\tfound lowest cost before end of iterations\")\n",
    "            print(\"\\titeration: \" + str(i))\n",
    "            print(\"\\tbefore:\" + str(last_cost))\n",
    "            print(\"\\tnow:\" + str(cost))\n",
    "            break\n",
    "        J_history[i, 0] = cost\n",
    "    return theta, J_history"
   ]
  },
  {
   "cell_type": "code",
   "execution_count": 19,
   "metadata": {
    "collapsed": false
   },
   "outputs": [
    {
     "name": "stdout",
     "output_type": "stream",
     "text": [
      "....-\n",
      "....-\n",
      "\tfound lowest cost before end of iterations\n",
      "\titeration: 0\n",
      "\tbefore:299.62757499999975\n",
      "\tnow:411.8725314364564\n",
      ".\tfound lowest cost before end of iterations\n",
      "\titeration: 0\n",
      "\tbefore:299.62757499999975\n",
      "\tnow:411.8725314364564\n",
      ".\tfound lowest cost before end of iterations\n",
      "\titeration: 0\n",
      "\tbefore:299.62757499999975\n",
      "\tnow:411.8725314364564\n",
      ".\tfound lowest cost before end of iterations\n",
      "\titeration: 0\n",
      "\tbefore:299.62757499999975\n",
      "\tnow:411.8725314364564\n",
      ".-\n"
     ]
    },
    {
     "data": {
      "text/html": [
       "<table><tr><td>ar-100-0.001 : y = [ 0.4680597] + [ 3.39216087]*X</td><td>ar-1000-0.001 : y = [ 0.65764677] + [ 4.88164517]*X</td><td>ar-10000-0.001 : y = [ 0.5511223] + [ 4.89649266]*X</td><td>ar-100000-0.001 : y = [-0.24701671] + [ 5.00716825]*X</td></tr><tr><td>ar-100-0.005 : y = [ 0.66157527] + [ 4.86475527]*X</td><td>ar-1000-0.005 : y = [ 0.6095867] + [ 4.88838558]*X</td><td>ar-10000-0.005 : y = [ 0.14223191] + [ 4.95319229]*X</td><td>ar-100000-0.005 : y = [-1.24597306] + [ 5.14569059]*X</td></tr><tr><td>ar-100-0.01 : y = [ 0.225725] + [ 1.4627225]*X</td><td>ar-1000-0.01 : y = [ 0.225725] + [ 1.4627225]*X</td><td>ar-10000-0.01 : y = [ 0.225725] + [ 1.4627225]*X</td><td>ar-100000-0.01 : y = [ 0.225725] + [ 1.4627225]*X</td></tr></table>"
      ],
      "text/plain": [
       "<IPython.core.display.HTML object>"
      ]
     },
     "metadata": {},
     "output_type": "display_data"
    }
   ],
   "source": [
    "from IPython.display import HTML, display\n",
    "\n",
    "theta = {}\n",
    "J_history = {}\n",
    "\n",
    "alphas = [\"0.001\", \"0.005\", \"0.01\"]\n",
    "iterations = [\"100\", \"1000\", \"10000\", \"100000\"]\n",
    "\n",
    "table = '<table>'\n",
    "\n",
    "for alpha in alphas:\n",
    "    table += '<tr>'\n",
    "    for iteration in iterations:\n",
    "        if not iteration in theta:\n",
    "            theta[iteration] = {}\n",
    "            J_history[iteration] = {}\n",
    "        theta[iteration][alpha] = zeros(shape=(3, 1))\n",
    "        theta[iteration][alpha], J_history[iteration][alpha] = gradient_descent(X, y, theta[iteration][alpha], float(alpha), int(iteration))\n",
    "        table += \"<td>ar-\" + str(iteration) + \"-\" + str(alpha) + \" : y = \" + str(theta[iteration][alpha][0]) + \" + \" + str(theta[iteration][alpha][1]) + \"*X</td>\"    \n",
    "        print('.', end='')\n",
    "    table += '</tr>'\n",
    "    print('-')\n",
    "    \n",
    "table += '</table>'\n",
    "\n",
    "display(HTML(table))"
   ]
  },
  {
   "cell_type": "markdown",
   "metadata": {},
   "source": [
    "## Analysis of Convergence"
   ]
  },
  {
   "cell_type": "code",
   "execution_count": 30,
   "metadata": {
    "collapsed": false
   },
   "outputs": [
    {
     "data": {
      "image/png": "[encoded data removed]",
      "text/plain": [
       "<matplotlib.figure.Figure at 0x7f4123554eb8>"
      ]
     },
     "metadata": {},
     "output_type": "display_data"
    }
   ],
   "source": [
    "from numpy import arange\n",
    "\n",
    "plt.close('all')\n",
    "f, axarr = plt.subplots(len(alphas), len(iterations), sharey=True)\n",
    "f.set_size_inches(7.5,5)\n",
    "\n",
    "i = 0\n",
    "j = 0\n",
    "for alpha in alphas:\n",
    "    for iteration in iterations:\n",
    "        #print(iterations + \"-\" + alpha)\n",
    "        #print(theta_pls[iterations][alpha])\n",
    "        axarr[i, j].plot(arange(int(iteration)), J_history[iteration][alpha])\n",
    "        j+=1\n",
    "    i+=1\n",
    "    j= 0\n",
    "\n",
    "plt.tight_layout()\n",
    "plt.show()"
   ]
  },
  {
   "cell_type": "markdown",
   "metadata": {},
   "source": [
    "# Library Implementations"
   ]
  },
  {
   "cell_type": "markdown",
   "metadata": {},
   "source": [
    "\n",
    "## Statsmodel"
   ]
  },
  {
   "cell_type": "code",
   "execution_count": 36,
   "metadata": {
    "collapsed": false
   },
   "outputs": [
    {
     "name": "stdout",
     "output_type": "stream",
     "text": [
      "Intercept a0:  -1.34207024631\n",
      "Coefficients a1, a2:  const   -1.342070\n",
      "x1       5.159016\n",
      "x2      -0.674735\n",
      "dtype: float64\n",
      "P-Values:  const    7.125397e-01\n",
      "x1       1.769508e-21\n",
      "x2       1.304560e-33\n",
      "dtype: float64\n",
      "R-Squared:  0.636575695751\n",
      "Conf. Interval:                0         1\n",
      "const -8.497953  5.813813\n",
      "x1     4.154260  6.163773\n",
      "x2    -0.774524 -0.574947\n",
      "MAE:  3.73411928077\n",
      "MSE:  22.9127746586\n",
      "RMSE:  4.78672901453\n"
     ]
    }
   ],
   "source": [
    "import statsmodels.api as sm\n",
    "\n",
    "# create a linear model and fit it to the data\n",
    "model = sm.OLS(y,X)\n",
    "fit = model.fit()\n",
    "\n",
    "print('Intercept a0: ', fit.params[0])\n",
    "print('Coefficients a1, a2: ', fit.params)\n",
    "print('P-Values: ', fit.pvalues)\n",
    "print('R-Squared: ', fit.rsquared)\n",
    "print('Conf. Interval: ', fit.conf_int())\n",
    "\n",
    "print('')\n",
    "# calculate MAE, MSE, RMSE\n",
    "y_pred = fit.predict(X_test)\n",
    "print('MAE: ', metrics.mean_absolute_error(y_test, y_pred))\n",
    "print('MSE: ', metrics.mean_squared_error(y_test, y_pred))\n",
    "print('RMSE: ', np.sqrt(metrics.mean_squared_error(y_test, y_pred)))"
   ]
  },
  {
   "cell_type": "markdown",
   "metadata": {},
   "source": [
    "## SKLearn"
   ]
  },
  {
   "cell_type": "code",
   "execution_count": 37,
   "metadata": {
    "collapsed": false,
    "scrolled": true
   },
   "outputs": [
    {
     "name": "stdout",
     "output_type": "stream",
     "text": [
      "Intercept a0:  -1.34207024631\n",
      "Coefficients a1, a2:  [ 0.         5.1590161 -0.6747354]\n",
      "R-Squared:  0.636575695751\n",
      "\n",
      "MAE:  3.73411928077\n",
      "MSE:  22.9127746586\n",
      "RMSE:  4.78672901453\n"
     ]
    }
   ],
   "source": [
    "from sklearn.linear_model import LinearRegression\n",
    "from sklearn.cross_validation import cross_val_score\n",
    "\n",
    "ols = LinearRegression(fit_intercept=True)\n",
    "model = ols.fit(X, y)\n",
    "\n",
    "print('Intercept a0: ', model.intercept_)\n",
    "print('Coefficients a1, a2: ', model.coef_)\n",
    "print('R-Squared: ',model.score(X, y))\n",
    "\n",
    "print('')\n",
    "# calculate MAE, MSE, RMSE\n",
    "y_pred = model.predict(X_test)\n",
    "print('MAE: ', metrics.mean_absolute_error(y_test, y_pred))\n",
    "print('MSE: ', metrics.mean_squared_error(y_test, y_pred))\n",
    "print('RMSE: ', np.sqrt(metrics.mean_squared_error(y_test, y_pred)))"
   ]
  },
  {
   "cell_type": "markdown",
   "metadata": {},
   "source": [
    "# SciPy"
   ]
  },
  {
   "cell_type": "code",
   "execution_count": null,
   "metadata": {
    "collapsed": true
   },
   "outputs": [],
   "source": []
  }
 ],
 "metadata": {
  "anaconda-cloud": {},
  "kernelspec": {
   "display_name": "Python [conda root]",
   "language": "python",
   "name": "conda-root-py"
  },
  "language_info": {
   "codemirror_mode": {
    "name": "ipython",
    "version": 3
   },
   "file_extension": ".py",
   "mimetype": "text/x-python",
   "name": "python",
   "nbconvert_exporter": "python",
   "pygments_lexer": "ipython3",
   "version": "3.5.2"
  },
  "toc": {
   "colors": {
    "hover_highlight": "#DAA520",
    "navigate_num": "#000000",
    "navigate_text": "#333333",
    "running_highlight": "#FF0000",
    "selected_highlight": "#FFD700",
    "sidebar_border": "#EEEEEE",
    "wrapper_background": "#FFFFFF"
   },
   "moveMenuLeft": true,
   "nav_menu": {
    "height": "142px",
    "width": "252px"
   },
   "navigate_menu": true,
   "number_sections": true,
   "sideBar": true,
   "threshold": 4,
   "toc_cell": true,
   "toc_section_display": "block",
   "toc_window_display": true,
   "widenNotebook": false
  }
 },
 "nbformat": 4,
 "nbformat_minor": 1
}
